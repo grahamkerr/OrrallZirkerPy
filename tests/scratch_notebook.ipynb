{
 "cells": [
  {
   "cell_type": "markdown",
   "metadata": {},
   "source": [
    "### Graham Kerr\n",
    "#### graham.s.kerr@NASA.gov; kerrg@cua.edu\n",
    "\n",
    "<H1 font size=\"+3\" style=\"color:red\">\n",
    "OZ project Project<br>\n",
    "-- Scratch Notebook \n",
    "</H1>\n",
    "\n",
    "<b>This notebook is just used for testing random bits of code and experimenting</b>\n",
    "\n",
    "\n",
    "\n"
   ]
  },
  {
   "cell_type": "markdown",
   "metadata": {},
   "source": [
    "---\n",
    "### <b style=\"color:blue\"> Some set up </b>\n",
    "\n",
    "***Import Modules***"
   ]
  },
  {
   "cell_type": "code",
   "execution_count": 2,
   "metadata": {},
   "outputs": [],
   "source": [
    "##\n",
    "## Import some modules\n",
    "##\n",
    "\n",
    "from scipy import io\n",
    "from scipy import constants as constants\n",
    "import sys\n",
    "sys.path.insert(0,'/Users/gskerr1/Documents/Research/Python_Programs/radynpy/')\n",
    "sys.path.insert(0,'/Users/gskerr1/Documents/Research/OrrallZirkerEffect/')\n",
    "\n",
    "\n",
    "import radynpy\n",
    "from radynpy.utils import RadynMovie as RM\n",
    "import OrrallZirkerPy as OZpy\n",
    "import OrrallZirkerPy.Atmos as Atmos\n",
    "import OrrallZirkerPy.EnergyToVel as e2v\n",
    "from OrrallZirkerPy.CrossSecActive import CSec_H3lev as H3lev\n",
    "from OrrallZirkerPy.CrossSecActive import CSec_H2lev as H2lev\n",
    "from OrrallZirkerPy.CrossSections import chebyshev_fn as Cheb\n",
    "from numpy.polynomial.polynomial import Polynomial as Poly\n",
    "\n",
    "\n",
    "import numpy as np\n",
    "import matplotlib as mpl\n",
    "import matplotlib.pyplot as plt\n",
    "from matplotlib.ticker import ScalarFormatter, FormatStrFormatter\n",
    "from matplotlib.ticker import LogLocator\n",
    "from matplotlib import ticker\n",
    "import matplotlib.colorbar as cb\n",
    "import pandas as pd\n",
    "\n",
    "import cmocean\n",
    "import colorcet as ccet\n",
    "import palettable as pal \n",
    "import plotly.express as px\n",
    "from plotly.subplots import make_subplots\n",
    "import plotly.graph_objects as go"
   ]
  },
  {
   "cell_type": "code",
   "execution_count": 33,
   "metadata": {},
   "outputs": [
    {
     "data": {
      "text/plain": [
       "<module 'OrrallZirkerPy.EnergyToVel' from '/Users/gskerr1/Documents/Research/OrrallZirkerEffect/OrrallZirkerPy/EnergyToVel.py'>"
      ]
     },
     "execution_count": 33,
     "metadata": {},
     "output_type": "execute_result"
    }
   ],
   "source": [
    "import importlib\n",
    "importlib.reload(OZpy.CrossSections)\n",
    "importlib.reload(OZpy.CrossSecActive)\n",
    "importlib.reload(OZpy.Atmos)\n",
    "importlib.reload(OZpy.EnergyToVel)\n"
   ]
  },
  {
   "cell_type": "code",
   "execution_count": 34,
   "metadata": {},
   "outputs": [],
   "source": [
    "##\n",
    "## Plot properties (these are just personal preference)\n",
    "##\n",
    "\n",
    "#Avenir LT Std\n",
    "font = {'family': 'Avenir LT Std',\n",
    "        'color':  'black',\n",
    "        'weight': 'medium',\n",
    "        'size': 22,\n",
    "        }\n",
    "plot_params = {'ytick.direction': 'in', \n",
    "               'xtick.direction': 'in', \n",
    "               'xtick.minor.visible': True,\n",
    "               'ytick.minor.visible': True,\n",
    "               'xtick.major.size': 10, 'xtick.minor.size': 5,\n",
    "               'ytick.major.size': 10, 'ytick.minor.size': 5,\n",
    "               'ytick.right': True,\n",
    "               'xtick.top': True,\n",
    "               'ytick.major.width': 1.5,\n",
    "               'xtick.major.width': 1.5,\n",
    "               'ytick.minor.width': 1.5,\n",
    "               'xtick.minor.width': 1.5,\n",
    "               'axes.linewidth': 1.5,\n",
    "               'axes.spines.top': True,\n",
    "               'axes.spines.bottom': True,\n",
    "               'axes.spines.left': True,\n",
    "               'axes.spines.right': True,\n",
    "               'axes.titlepad' : 18 }\n",
    "\n",
    "plot_lg_params = {'legend.frameon': False}\n",
    "#plt.rcParams.update({'font.size': font['size'], 'font.family':font['family'], 'font.weight':font['weight'], 'font.color':font['color']})\n",
    "\n",
    "plt.rcParams.update({'font.size':font['size'], 'font.family':font['family'], 'font.weight':font['weight']})\n",
    "plt.rcParams.update({'ytick.direction': plot_params['ytick.direction'],\n",
    "                     'xtick.direction': plot_params['xtick.direction'],\n",
    "                     'xtick.minor.visible': plot_params['xtick.minor.visible'],\n",
    "                     'ytick.minor.visible': plot_params['ytick.minor.visible'],\n",
    "                     'ytick.major.size':  plot_params['ytick.major.size'], \n",
    "                     'ytick.minor.size':  plot_params['ytick.minor.size'],\n",
    "                     'xtick.major.size':  plot_params['xtick.major.size'],                                \n",
    "                     'xtick.minor.size':  plot_params['xtick.minor.size'],\n",
    "                     'ytick.right': plot_params['ytick.right'],\n",
    "                     'xtick.top': plot_params['xtick.top'],\n",
    "                     'ytick.major.width': plot_params['ytick.major.width'],\n",
    "                     'xtick.major.width': plot_params['xtick.major.width'],\n",
    "                     'ytick.minor.width': plot_params['ytick.minor.width'],\n",
    "                     'xtick.minor.width': plot_params['xtick.minor.width'],                    \n",
    "                     'axes.linewidth': plot_params['axes.linewidth'],\n",
    "                     'axes.spines.top' : plot_params['axes.spines.top'],\n",
    "                     'axes.spines.bottom' : plot_params['axes.spines.bottom'],\n",
    "                     'axes.spines.left' : plot_params['axes.spines.left'],\n",
    "                     'axes.spines.right' : plot_params['axes.spines.right'],\n",
    "                     'axes.titlepad' : plot_params['axes.titlepad'],\n",
    "                    })\n",
    "\n",
    "plt.rcParams.update({'legend.frameon': plot_lg_params['legend.frameon']})\n",
    "\n",
    "mpl.mathtext.SHRINK_FACTOR = 0.6\n",
    "mpl.mathtext.GROW_FACTOR = 1 / 0.6\n",
    "\n",
    "\n",
    "\n",
    "\n",
    "\n",
    "template = dict(\n",
    "        layout = go.Layout(font = dict(family = \"Rockwell\", size = 18),\n",
    "                           title_font = dict(family = \"Rockwell\", size = 22), \n",
    "                           plot_bgcolor = 'white',\n",
    "                           paper_bgcolor = 'white',\n",
    "                           xaxis = dict(\n",
    "                                showexponent = 'all',\n",
    "                                exponentformat = 'e',\n",
    "                                tickangle = 0,\n",
    "                                linewidth = 4,\n",
    "                                showgrid = True,\n",
    "                            ),\n",
    "                            yaxis = dict(\n",
    "                          showexponent = 'all',\n",
    "                          exponentformat = 'e',\n",
    "                                linewidth = 4,\n",
    "                                showgrid = True,\n",
    "                                anchor = 'free',\n",
    "                                position = 0,\n",
    "                                domain = [0.0,1]\n",
    "                            ),\n",
    "                            coloraxis_colorbar = dict(\n",
    "                                thickness = 15,\n",
    "                                tickformat = '0.2f',\n",
    "                                ticks = 'outside',\n",
    "                                titleside = 'right'\n",
    "                            )\n",
    "                            ))"
   ]
  },
  {
   "cell_type": "markdown",
   "metadata": {},
   "source": [
    "---\n",
    "---\n",
    "### <b style=\"color:blue\"> Setting the 'active' cross sections </b>\n",
    "\n",
    "<b>CrossSecActive.py should be modified if you want to select different cross sections. It extracts them from CrossSections.py, so they have to be located there first.</b>\n",
    "> - Set up an energy range. \n",
    "> - Create the csec object to extract *all* cross sections. From this, you can create objects holding cross sections from the various sources.<br>\n",
    "> - Create the active set object from the set list (either H3lev, or H2lev)... this ***does not*** require the OZpy.CrossSections.CrossSec object. <b style=\"color:red\"> Is this confusing, should I rename some things?</b>"
   ]
  },
  {
   "cell_type": "code",
   "execution_count": 35,
   "metadata": {},
   "outputs": [],
   "source": [
    "energy = np.arange(1,8001,1)\n",
    "csec = OZpy.CrossSections.CrossSec(energy)\n",
    "kerr = csec.cs_kerr_poly()\n",
    "csactive_3lev = H3lev(energy)\n",
    "csactive_2lev = H2lev(energy)\n",
    "\n"
   ]
  },
  {
   "cell_type": "code",
   "execution_count": 36,
   "metadata": {},
   "outputs": [
    {
     "data": {
      "text/plain": [
       "array([1.68633033e+02, 1.44360965e+02, 1.23088578e+02, ...,\n",
       "       1.17513140e-10, 1.17433655e-10, 1.17354237e-10])"
      ]
     },
     "execution_count": 36,
     "metadata": {},
     "output_type": "execute_result"
    }
   ],
   "source": [
    "csactive_3lev.Q_p1\n"
   ]
  },
  {
   "cell_type": "code",
   "execution_count": 37,
   "metadata": {},
   "outputs": [
    {
     "name": "stdout",
     "output_type": "stream",
     "text": [
      "\n",
      ">>> You have not entered a valid value of nLev (nLev = 2 or 3)\n",
      "     Defaulting to nLev = 3!\n"
     ]
    }
   ],
   "source": [
    "csecA = OZpy.CrossSecActive.CSecActive(energy, nLev = 1)"
   ]
  },
  {
   "cell_type": "code",
   "execution_count": 39,
   "metadata": {},
   "outputs": [
    {
     "data": {
      "text/plain": [
       "4"
      ]
     },
     "execution_count": 39,
     "metadata": {},
     "output_type": "execute_result"
    }
   ],
   "source": [
    "csecA.nLev_plus_cont"
   ]
  },
  {
   "cell_type": "markdown",
   "metadata": {},
   "source": [
    "---\n",
    "---\n",
    "### <b style=\"color:blue\"> Read in a RADYN atmosphere and create the atmos object </b>\n",
    "> - Does not need to be a RADYN atmosphere, can be anything that gives you hydrogen, electron, and proton number densities.<br>\n"
   ]
  },
  {
   "cell_type": "code",
   "execution_count": null,
   "metadata": {},
   "outputs": [],
   "source": [
    "###\n",
    "### Read the RADYN atmosphere\n",
    "###\n",
    "dir1 = '/Users/gskerr1/Documents/Research/OrrallZirkerEffect/protonbeam_simulations/F11/'\n",
    "# cdf1 = radynpy.cdf.LazyRadynData(dir1+'QSHTSL_0.75F10_d7_ec20_t30s_oneD_ne200_ext.cdf')\n",
    "file1 = 'radyn_out.1000keV.5.F11.sav'\n",
    "\n",
    "RADYN = io.readsav(dir1+file1, python_dict=True)\n",
    "# RADYN = RADYN['radyn_struct']\n"
   ]
  },
  {
   "cell_type": "code",
   "execution_count": null,
   "metadata": {},
   "outputs": [],
   "source": [
    "nElec = RADYN['ne1t']\n",
    "nHyd = np.sum(RADYN['n1t'][:,0,0:4,:],axis=1)\n",
    "nProt = RADYN['n1t'][:,0,5,:]\n",
    "height = RADYN['z1t']\n",
    "time = RADYN['timet']\n"
   ]
  },
  {
   "cell_type": "code",
   "execution_count": null,
   "metadata": {},
   "outputs": [],
   "source": [
    "plt.plot(height[0,:]/1e8, nElec[0,:])\n",
    "plt.plot(height[0,:]/1e8, nProt[0,:])\n",
    "plt.plot(height[0,:]/1e8, nHyd[0,:])\n",
    "plt.yscale('log')\n"
   ]
  },
  {
   "cell_type": "code",
   "execution_count": null,
   "metadata": {},
   "outputs": [],
   "source": [
    "atmo = Atmos.ambientpops(nHyd = nHyd, nElec=nElec, nProt=nProt, height=height, times=time)\n"
   ]
  },
  {
   "cell_type": "markdown",
   "metadata": {},
   "source": [
    "---\n",
    "---\n",
    "### <b style=\"color:blue\"> Convert energy to velocity </b>\n",
    "> - Converts energy in keV to particle velocity (assumes proton).<br>"
   ]
  },
  {
   "cell_type": "code",
   "execution_count": null,
   "metadata": {},
   "outputs": [],
   "source": [
    "vels = e2v.energy2vel(energy)\n"
   ]
  },
  {
   "cell_type": "code",
   "execution_count": null,
   "metadata": {},
   "outputs": [],
   "source": [
    "plt.plot(energy, vels/1e5)\n",
    "# plt.axhline(y=3e5)\n",
    "plt.xscale('log')\n"
   ]
  },
  {
   "cell_type": "code",
   "execution_count": null,
   "metadata": {},
   "outputs": [],
   "source": []
  }
 ],
 "metadata": {
  "kernelspec": {
   "display_name": "py38_solar_sunpy",
   "language": "python",
   "name": "py38_solar_sunpy"
  },
  "language_info": {
   "codemirror_mode": {
    "name": "ipython",
    "version": 3
   },
   "file_extension": ".py",
   "mimetype": "text/x-python",
   "name": "python",
   "nbconvert_exporter": "python",
   "pygments_lexer": "ipython3",
   "version": "3.8.5"
  }
 },
 "nbformat": 4,
 "nbformat_minor": 4
}
