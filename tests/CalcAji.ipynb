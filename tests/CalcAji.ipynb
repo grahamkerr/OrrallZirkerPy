{
 "cells": [
  {
   "cell_type": "markdown",
   "metadata": {},
   "source": [
    "### Graham Kerr\n",
    "#### graham.s.kerr@NASA.gov; kerrg@cua.edu\n",
    "\n",
    "<H1 font size=\"+3\" style=\"color:red\">\n",
    "OZ project Project<br>\n",
    "-- Calculate A<sub>ji</sub> coef.\n",
    "</H1>\n",
    "\n",
    "<b>Grabs data from NIST to calculate the total inverse lifetime of each level, the Einstein coeff.\n",
    "\n",
    "<b> https://physics.nist.gov/cgi-bin/ASD/lines1.pl?spectra=h+I+&limits_type=0&low_w=&upp_w=&unit=1&submit=Retrieve+Data&de=0&format=0&line_out=0&en_unit=0&output=0&bibrefs=1&page_size=15&show_obs_wl=1&show_calc_wl=1&unc_out=1&order_out=0&max_low_enrg=&show_av=2&max_upp_enrg=&tsb_value=0&min_str=&A_out=0&intens_out=on&max_str=&allowed_out=1&forbid_out=1&min_accur=&min_intens=&conf_out=on&term_out=on&enrg_out=on&J_out=on\n",
    " "
   ]
  },
  {
   "cell_type": "markdown",
   "metadata": {},
   "source": [
    "---\n",
    "### <b style=\"color:blue\"> Some set up </b>\n",
    "\n",
    "***Import Modules***"
   ]
  },
  {
   "cell_type": "code",
   "execution_count": 1,
   "metadata": {},
   "outputs": [],
   "source": [
    "##\n",
    "## Import some modules\n",
    "##\n",
    "\n",
    "import numpy as np\n"
   ]
  },
  {
   "cell_type": "markdown",
   "metadata": {},
   "source": [
    "---\n",
    "### <b style=\"color:blue\"> Calculate the total coeff. </b>\n",
    "\n",
    "***A21***\n",
    "\n",
    "2p<sub>3/2</sub> -- 1s<sub>1/2</sub><br>\n",
    "2p<sub>1/2</sub> -- 1s<sub>1/2</sub><br>\n",
    "2s<sub>1/2</sub> -- 1s<sub>1/2</sub> [forb]\n"
   ]
  },
  {
   "cell_type": "code",
   "execution_count": 5,
   "metadata": {},
   "outputs": [
    {
     "name": "stdout",
     "output_type": "stream",
     "text": [
      "A_21 =  4.698000000000006 x10^8 /s\n"
     ]
    }
   ],
   "source": [
    "## \n",
    "## A21\n",
    "##\n",
    "j_n21 = np.array((1.5, 0.5, 0.5))\n",
    "a21_vals = np.array((6.264e8, 6.264e8, 2.495e-6))\n",
    "g_n21 = 2*j_n21+1\n",
    "a21_tot = 0\n",
    "for i in range(len(g_n21)):\n",
    "    a21_tot+=(g_n21[i]*a21_vals[i])/np.sum(g_n21)\n",
    "    \n",
    "print('A_21 = ',a21_tot/1e8,'x10^8 /s')"
   ]
  },
  {
   "cell_type": "markdown",
   "metadata": {},
   "source": [
    "***A31***\n",
    "\n",
    "3d<sub>5/2</sub> -- 1s<sub>1/2</sub><br>\n",
    "3d<sub>3/2</sub> -- 1s<sub>1/2</sub><br>\n",
    "3s<sub>1/2</sub> -- 1s<sub>1/2</sub><br>\n",
    "3p<sub>3/2</sub> -- 1s<sub>3/2</sub><br>\n",
    "3p<sub>1/2</sub> -- 1s<sub>1/2</sub><br>"
   ]
  },
  {
   "cell_type": "code",
   "execution_count": 7,
   "metadata": {},
   "outputs": [
    {
     "name": "stdout",
     "output_type": "stream",
     "text": [
      "A_31 =  5.575032985555567 x10^7 /s\n"
     ]
    }
   ],
   "source": [
    "## \n",
    "## A31\n",
    "##\n",
    "j_n31 = np.array((2.5, 1.5, 0.5, 1.5, 0.5))\n",
    "a31_vals = np.array((5.937e2, 5.938e2, 1.109e-6, 1.6725e8, 1.6725e8))\n",
    "g_n31 = 2*j_n31+1\n",
    "a31_tot = 0\n",
    "for i in range(len(g_n31)):\n",
    "    a31_tot+=(g_n31[i]*a31_vals[i])/np.sum(g_n31)\n",
    "\n",
    "print('A_31 = ',a31_tot/1e7,'x10^7 /s')\n"
   ]
  },
  {
   "cell_type": "markdown",
   "metadata": {},
   "source": [
    "***A32***\n",
    "\n",
    "3d<sub>3/2</sub> -- 2p<sub>1/2</sub><br>\n",
    "3d<sub>3/2</sub> -- 2p<sub>3/2</sub><br>\n",
    "\n",
    "3p<sub>3/2</sub> -- 2s<sub>1/2</sub><br>\n",
    "\n",
    "3s<sub>1/2</sub> -- 2p<sub>1/2</sub><br>\n",
    "3s<sub>1/2</sub> -- 2p<sub>3/2</sub><br>\n",
    "\n",
    "\n",
    "3p<sub>1/2</sub> -- 2s<sub>1/2</sub><br>\n",
    "\n",
    "3d<sub>5/2</sub> -- 2p<sub>3/2</sub><br>"
   ]
  },
  {
   "cell_type": "code",
   "execution_count": 10,
   "metadata": {},
   "outputs": [
    {
     "name": "stdout",
     "output_type": "stream",
     "text": [
      "A_32 =  4.41018111111111 x10^7 /s\n"
     ]
    }
   ],
   "source": [
    "##\n",
    "## A32\n",
    "##\n",
    "\n",
    "#3d 3/2\n",
    "a32_val_3d_32 = 5.3877e7+1.0775e7\n",
    "\n",
    "#3p 3/2\n",
    "a32_val_3p_32 = 2.2448e7\n",
    "\n",
    "#3s 1/2\n",
    "a32_val_3s_12 = 2.1046e6+4.2097e6\n",
    "\n",
    "#3p 1/2\n",
    "a32_val_3p_12 = 2.2449e7\n",
    "                          \n",
    "#3d 5/2\n",
    "a32_val_3d_52 = 6.4651e7\n",
    "\n",
    "g_n32 = np.array((4, 4, 2, 2, 6))\n",
    "a32_vals = np.array((a32_val_3d_32, a32_val_3p_32, a32_val_3s_12, a32_val_3p_12, a32_val_3d_52))\n",
    "\n",
    "a32_tot = 0\n",
    "for i in range(len(g_n32)):\n",
    "    a32_tot+=(g_n32[i]*a32_vals[i])/np.sum(g_n32)\n",
    "\n",
    "print('A_32 = ',a32_tot/1e7,'x10^7 /s')\n",
    "\n"
   ]
  },
  {
   "cell_type": "code",
   "execution_count": null,
   "metadata": {},
   "outputs": [],
   "source": []
  }
 ],
 "metadata": {
  "kernelspec": {
   "display_name": "Python 3",
   "language": "python",
   "name": "python3"
  },
  "language_info": {
   "codemirror_mode": {
    "name": "ipython",
    "version": 3
   },
   "file_extension": ".py",
   "mimetype": "text/x-python",
   "name": "python",
   "nbconvert_exporter": "python",
   "pygments_lexer": "ipython3",
   "version": "3.8.3"
  }
 },
 "nbformat": 4,
 "nbformat_minor": 4
}
