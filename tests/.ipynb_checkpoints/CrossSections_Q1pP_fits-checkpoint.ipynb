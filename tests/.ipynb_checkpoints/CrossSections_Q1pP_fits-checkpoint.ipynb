{
 "cells": [
  {
   "cell_type": "markdown",
   "metadata": {},
   "source": [
    "### Graham Kerr\n",
    "#### graham.s.kerr@NASA.gov; kerrg@cua.edu\n",
    "\n",
    "<H1 font size=\"+3\" style=\"color:red\">\n",
    "OZ project Project<br>\n",
    "-- Q_1p Cross Sections Examples\n",
    "</H1>\n",
    "\n",
    "<b>This notebook will plot impact ionisation cross sections for 1s -> p, via impacts with protons, H, and electrons.</b>\n",
    "\n",
    "H + p = p + p + e <br>\n",
    "H + H = p + H + e <br>\n",
    "H + e = p + e + e <br>\n",
    "\n",
    "I only have data from 1.25 -- 1500 keV. This is probably OK as the CX process is weak by those energies. Still, is it possible to fit a fn to what we have so far, and then extend the decay linearly (in log space) to higher energies? Could fit a straight line in log space (simple exponential decay) from say 500-->1500 keV and then extrapolate further. Fitting a 1 degree polynomial in logE - log Q space seems to work well.\n",
    " "
   ]
  },
  {
   "cell_type": "markdown",
   "metadata": {},
   "source": [
    "---\n",
    "### <b style=\"color:blue\"> Some set up </b>\n",
    "\n",
    "***Import Modules***"
   ]
  },
  {
   "cell_type": "code",
   "execution_count": 143,
   "metadata": {},
   "outputs": [],
   "source": [
    "##\n",
    "## Import some modules\n",
    "##\n",
    "\n",
    "import sys\n",
    "sys.path.insert(0,'/Users/gskerr1/Documents/Research/Python_Programs/radynpy/')\n",
    "sys.path.insert(0,'/Users/gskerr1/Documents/Research/OrrallZirkerEffect/')\n",
    "\n",
    "\n",
    "import radynpy\n",
    "import OrrallZirkerPy as OZpy\n",
    "# from OrrallZirkerPy import CrossSections\n",
    "from OrrallZirkerPy.CrossSections import chebyshev_fn as Cheb\n",
    "from numpy.polynomial.polynomial import Polynomial as Poly\n",
    "\n",
    "\n",
    "\n",
    "import numpy as np\n",
    "import matplotlib as mpl\n",
    "import matplotlib.pyplot as plt\n",
    "from matplotlib.ticker import ScalarFormatter, FormatStrFormatter\n",
    "from matplotlib.ticker import LogLocator\n",
    "from matplotlib import ticker\n",
    "import matplotlib.colorbar as cb\n",
    "import pandas as pd\n",
    "\n",
    "import cmocean\n",
    "import colorcet as ccet\n",
    "import palettable as pal \n",
    "import plotly.express as px\n",
    "from plotly.subplots import make_subplots\n",
    "import plotly.graph_objects as go"
   ]
  },
  {
   "cell_type": "code",
   "execution_count": 18,
   "metadata": {},
   "outputs": [
    {
     "data": {
      "text/plain": [
       "<module 'OrrallZirkerPy.CrossSections' from '/Users/gskerr1/Documents/Research/OrrallZirkerEffect/OrrallZirkerPy/CrossSections.py'>"
      ]
     },
     "execution_count": 18,
     "metadata": {},
     "output_type": "execute_result"
    }
   ],
   "source": [
    "import importlib\n",
    "importlib.reload(OZpy.CrossSections)\n",
    "\n"
   ]
  },
  {
   "cell_type": "markdown",
   "metadata": {},
   "source": [
    "***Set up plot properties***"
   ]
  },
  {
   "cell_type": "code",
   "execution_count": 19,
   "metadata": {},
   "outputs": [],
   "source": [
    "##\n",
    "## Plot properties (these are just personal preference)\n",
    "##\n",
    "\n",
    "#Avenir LT Std\n",
    "font = {'family': 'Avenir LT Std',\n",
    "        'color':  'black',\n",
    "        'weight': 'medium',\n",
    "        'size': 22,\n",
    "        }\n",
    "plot_params = {'ytick.direction': 'in', \n",
    "               'xtick.direction': 'in', \n",
    "               'xtick.minor.visible': True,\n",
    "               'ytick.minor.visible': True,\n",
    "               'xtick.major.size': 10, 'xtick.minor.size': 5,\n",
    "               'ytick.major.size': 10, 'ytick.minor.size': 5,\n",
    "               'ytick.right': False,\n",
    "               'xtick.top': False,\n",
    "               'ytick.major.width': 1.5,\n",
    "               'xtick.major.width': 1.5,\n",
    "               'ytick.minor.width': 1.5,\n",
    "               'xtick.minor.width': 1.5,\n",
    "               'axes.linewidth': 1.5,\n",
    "               'axes.spines.top': False,\n",
    "               'axes.spines.bottom': True,\n",
    "               'axes.spines.left': True,\n",
    "               'axes.spines.right': False,\n",
    "               'axes.titlepad' : 18 }\n",
    "\n",
    "plot_lg_params = {'legend.frameon': False}\n",
    "#plt.rcParams.update({'font.size': font['size'], 'font.family':font['family'], 'font.weight':font['weight'], 'font.color':font['color']})\n",
    "\n",
    "plt.rcParams.update({'font.size':font['size'], 'font.family':font['family'], 'font.weight':font['weight']})\n",
    "plt.rcParams.update({'ytick.direction': plot_params['ytick.direction'],\n",
    "                     'xtick.direction': plot_params['xtick.direction'],\n",
    "                     'xtick.minor.visible': plot_params['xtick.minor.visible'],\n",
    "                     'ytick.minor.visible': plot_params['ytick.minor.visible'],\n",
    "                     'ytick.major.size':  plot_params['ytick.major.size'], \n",
    "                     'ytick.minor.size':  plot_params['ytick.minor.size'],\n",
    "                     'xtick.major.size':  plot_params['xtick.major.size'],                                \n",
    "                     'xtick.minor.size':  plot_params['xtick.minor.size'],\n",
    "                     'ytick.right': plot_params['ytick.right'],\n",
    "                     'xtick.top': plot_params['xtick.top'],\n",
    "                     'ytick.major.width': plot_params['ytick.major.width'],\n",
    "                     'xtick.major.width': plot_params['xtick.major.width'],\n",
    "                     'ytick.minor.width': plot_params['ytick.minor.width'],\n",
    "                     'xtick.minor.width': plot_params['xtick.minor.width'],                    \n",
    "                     'axes.linewidth': plot_params['axes.linewidth'],\n",
    "                     'axes.spines.top' : plot_params['axes.spines.top'],\n",
    "                     'axes.spines.bottom' : plot_params['axes.spines.bottom'],\n",
    "                     'axes.spines.left' : plot_params['axes.spines.left'],\n",
    "                     'axes.spines.right' : plot_params['axes.spines.right'],\n",
    "                     'axes.titlepad' : plot_params['axes.titlepad'],\n",
    "                    })\n",
    "\n",
    "plt.rcParams.update({'legend.frameon': plot_lg_params['legend.frameon']})\n",
    "\n",
    "mpl.mathtext.SHRINK_FACTOR = 0.6\n",
    "mpl.mathtext.GROW_FACTOR = 1 / 0.6\n",
    "\n",
    "\n",
    "\n",
    "\n",
    "\n",
    "template = dict(\n",
    "        layout = go.Layout(font = dict(family = \"Rockwell\", size = 18),\n",
    "                           title_font = dict(family = \"Rockwell\", size = 22), \n",
    "                           plot_bgcolor = 'white',\n",
    "                           paper_bgcolor = 'white',\n",
    "                           xaxis = dict(\n",
    "                                showexponent = 'all',\n",
    "                                exponentformat = 'e',\n",
    "                                tickangle = 0,\n",
    "                                linewidth = 4,\n",
    "                                showgrid = True,\n",
    "                            ),\n",
    "                            yaxis = dict(\n",
    "                          showexponent = 'all',\n",
    "                          exponentformat = 'e',\n",
    "                                linewidth = 4,\n",
    "                                showgrid = True,\n",
    "                                anchor = 'free',\n",
    "                                position = 0,\n",
    "                                domain = [0.0,1]\n",
    "                            ),\n",
    "                            coloraxis_colorbar = dict(\n",
    "                                thickness = 15,\n",
    "                                tickformat = '0.2f',\n",
    "                                ticks = 'outside',\n",
    "                                titleside = 'right'\n",
    "                            )\n",
    "                            ))"
   ]
  },
  {
   "cell_type": "markdown",
   "metadata": {},
   "source": [
    "---\n",
    "### <b style=\"color:blue\"> Calculate or extract the cross sections </b>\n",
    "\n",
    "***Set up the CrossSec object with requested energy values***"
   ]
  },
  {
   "cell_type": "code",
   "execution_count": 20,
   "metadata": {},
   "outputs": [],
   "source": [
    "energy = np.arange(1, 5001, 1)\n",
    "cs = OZpy.CrossSections.CrossSec(energy)"
   ]
  },
  {
   "cell_type": "markdown",
   "metadata": {},
   "source": [
    "***Run the various functions***"
   ]
  },
  {
   "cell_type": "code",
   "execution_count": 21,
   "metadata": {},
   "outputs": [],
   "source": [
    "Shah98 = OZpy.CrossSections.cs_shah98()\n",
    "Shah87a = OZpy.CrossSections.cs_shah87a()\n",
    "Shah81 = OZpy.CrossSections.cs_shah81()"
   ]
  },
  {
   "cell_type": "markdown",
   "metadata": {},
   "source": [
    "***Combine the data***\n",
    "> - We are stiching together the Shah data points:\n",
    "\n",
    ">> Shah 1998 1.25 -> 9 keV <br>\n",
    "Shah 1987a 9.4 -> 75 keV <br>\n",
    "Shah 1981 80 keV -> 1500 keV <br>\n",
    "\n"
   ]
  },
  {
   "cell_type": "code",
   "execution_count": 58,
   "metadata": {},
   "outputs": [],
   "source": [
    "e1 = 1.25\n",
    "e2 = 9.00\n",
    "e3 = 9.40\n",
    "e4 = 75.00\n",
    "e5 = 80.00\n",
    "e6 = 1500.0\n",
    "eind1 = np.abs(Shah98.energy - e1).argmin()\n",
    "eind2 = np.abs(Shah98.energy - e2).argmin()\n",
    "eind3 = np.abs(Shah87a.energy - e3).argmin()\n",
    "eind4 = np.abs(Shah87a.energy - e4).argmin()\n",
    "eind5 = np.abs(Shah81.energy - e5).argmin()\n",
    "eind6 = np.abs(Shah81.energy - e6).argmin()\n",
    "energy_tot = np.concatenate((Shah98.energy[eind1:eind2+1], Shah87a.energy[eind3:eind4+1],Shah81.energy[eind5:eind6+1] ))\n",
    "\n",
    "csec_tot_Q1pP = np.concatenate((\n",
    "                  Shah98.Q_1pP[eind1:eind2+1],\n",
    "                  Shah87a.Q_1pP[eind3:eind4+1],\n",
    "                  Shah81.Q_1pP[eind5:eind6+1]))\n",
    "\n"
   ]
  },
  {
   "cell_type": "code",
   "execution_count": 59,
   "metadata": {},
   "outputs": [
    {
     "data": {
      "text/plain": [
       "<matplotlib.lines.Line2D at 0x7faeab5aff40>"
      ]
     },
     "execution_count": 59,
     "metadata": {},
     "output_type": "execute_result"
    },
    {
     "data": {
      "image/png": "[encoded data removed]",
      "text/plain": [
       "<Figure size 432x288 with 1 Axes>"
      ]
     },
     "metadata": {
      "needs_background": "light"
     },
     "output_type": "display_data"
    }
   ],
   "source": [
    "##\n",
    "## Plot the cross sections as a sanity check\n",
    "##\n",
    "\n",
    "plt.plot(energy_tot, np.log10(csec_tot_Q1pP), color = 'dimgrey')\n",
    "plt.xscale('log')\n",
    "plt.plot(Shah98.energy, np.log10(Shah98.Q_1pP), marker = 'd', markersize = 8, color = 'tomato')\n",
    "plt.plot(Shah87a.energy, np.log10(Shah87a.Q_1pP), marker = 's', markersize = 8, color = 'black')\n",
    "plt.plot(Shah81.energy, np.log10(Shah81.Q_1pP), marker = 'o', markersize = 8, color = 'dodgerblue')\n",
    "\n",
    "plt.axvline(x=400)\n",
    "plt.axvline(x=1500)"
   ]
  },
  {
   "cell_type": "code",
   "execution_count": 60,
   "metadata": {},
   "outputs": [],
   "source": [
    "##\n",
    "## Set up the fits\n",
    "##\n",
    "cfit_Q1pP_4deg, pcov_cheb = OZpy.CrossSections.cs_chebfit(energy_tot, csec_tot_Q1pP, emin = e1, emax = e6, deg = 4)\n",
    "cfit_Q1pP_5deg, pcov_cheb = OZpy.CrossSections.cs_chebfit(energy_tot, csec_tot_Q1pP, emin = e1, emax = e6, deg = 5)\n",
    "cfit_Q1pP_6deg, pcov_cheb = OZpy.CrossSections.cs_chebfit(energy_tot, csec_tot_Q1pP, emin = e1, emax = e6, deg = 6)\n",
    "cfit_Q1pP_7deg, pcov_cheb = OZpy.CrossSections.cs_chebfit(energy_tot, csec_tot_Q1pP, emin = e1, emax = e6, deg = 7)\n",
    "cfit_Q1pP_8deg, pcov_cheb = OZpy.CrossSections.cs_chebfit(energy_tot, csec_tot_Q1pP, emin = e1, emax = e6, deg = 8)\n",
    "\n",
    "pfit_Q1pP_4deg = OZpy.CrossSections.cs_polyfit(energy_tot, csec_tot_Q1pP,  \n",
    "                                                       order = 4, log10E = True, log10Q = True)\n",
    "pfit_Q1pP_5deg = OZpy.CrossSections.cs_polyfit(energy_tot, csec_tot_Q1pP,  \n",
    "                                                       order = 5, log10E = True, log10Q = True)\n",
    "pfit_Q1pP_6deg = OZpy.CrossSections.cs_polyfit(energy_tot, csec_tot_Q1pP,  \n",
    "                                                       order = 6, log10E = True, log10Q = True)\n",
    "pfit_Q1pP_7deg = OZpy.CrossSections.cs_polyfit(energy_tot, csec_tot_Q1pP,  \n",
    "                                                       order = 7, log10E = True, log10Q = True)\n",
    "pfit_Q1pP_8deg = OZpy.CrossSections.cs_polyfit(energy_tot, csec_tot_Q1pP,  \n",
    "                                                       order = 8, log10E = True, log10Q = True)"
   ]
  },
  {
   "cell_type": "code",
   "execution_count": 86,
   "metadata": {},
   "outputs": [
    {
     "data": {
      "image/png": "[encoded data removed]",
      "text/plain": [
       "<Figure size 432x288 with 1 Axes>"
      ]
     },
     "metadata": {
      "needs_background": "light"
     },
     "output_type": "display_data"
    }
   ],
   "source": [
    "plt.plot((energy_tot), \n",
    "                   (np.log10(np.exp(Cheb(energy_tot, cfit_Q1pP_4deg, len(cfit_n1_4deg)-1, e1, e6)))),\n",
    "                   linewidth = 4, linestyle = '-', color = 'black',\n",
    "                 )\n",
    "plt.plot((energy_tot), \n",
    "                   (np.log10(np.exp(Cheb(energy_tot, cfit_Q1pP_5deg, len(cfit_n1_5deg)-1, e1, e6)))),\n",
    "                   linewidth = 4, linestyle = '-', color = 'tomato',\n",
    "                 )\n",
    "plt.plot((energy_tot), \n",
    "                   (np.log10(np.exp(Cheb(energy_tot, cfit_Q1pP_6deg, len(cfit_n1_6deg)-1, e1, e6)))),\n",
    "                   linewidth = 4, linestyle = '-', color = 'dodgerblue',\n",
    "                 )\n",
    "plt.plot((energy_tot), \n",
    "                   (np.log10(np.exp(Cheb(energy_tot, cfit_Q1pP_7deg, len(cfit_n1_7deg)-1, e1, e6)))),\n",
    "                   linewidth = 4, linestyle = '-', color = 'forestgreen',\n",
    "                 )\n",
    "plt.plot((energy_tot), \n",
    "                   (np.log10(np.exp(Cheb(energy_tot, cfit_Q1pP_8deg, len(cfit_n1_8deg)-1, e1, e6)))),\n",
    "                   linewidth = 4, linestyle = '-', color = 'goldenrod',zorder = 50\n",
    "                 )\n",
    "plt.plot(Shah98.energy, np.log10(Shah98.Q_1pP), marker = 'd', markersize = 8, color = 'dimgrey')\n",
    "plt.plot(Shah87a.energy, np.log10(Shah87a.Q_1pP), marker = 's', markersize = 8, color = 'dimgrey')\n",
    "plt.plot(Shah81.energy, np.log10(Shah81.Q_1pP), marker = 'o', markersize = 8, color = 'dimgrey')\n",
    "plt.plot((energy2plot), \n",
    "                   (pfit_Q1pP_2deg_end(np.log10(energy2plot))),\n",
    "                   linewidth = 4, linestyle = '--', color = 'tomato',\n",
    "                 )\n",
    "plt.plot((energy2plot), \n",
    "                   (pfit_Q1pP_1deg_end(np.log10(energy2plot))),\n",
    "                   linewidth = 4, linestyle = '--', color = 'dodgerblue',\n",
    "                 )\n",
    "\n",
    "plt.xscale('log')\n",
    "\n",
    "\n"
   ]
  },
  {
   "cell_type": "code",
   "execution_count": 124,
   "metadata": {},
   "outputs": [
    {
     "data": {
      "text/latex": [
       "$x \\mapsto \\text{2.7600800937199725} - \\text{0.8224123710055611}\\,x$"
      ],
      "text/plain": [
       "Polynomial([ 2.76008009, -0.82241237], domain=[-1,  1], window=[-1,  1])"
      ]
     },
     "execution_count": 124,
     "metadata": {},
     "output_type": "execute_result"
    },
    {
     "data": {
      "image/png": "[encoded data removed]",
      "text/plain": [
       "<Figure size 432x288 with 1 Axes>"
      ]
     },
     "metadata": {
      "needs_background": "light"
     },
     "output_type": "display_data"
    }
   ],
   "source": [
    "plt.plot((energy_tot), \n",
    "                   (pfit_Q1pP_4deg(np.log10(energy_tot))),\n",
    "                   linewidth = 4, linestyle = '-', color = 'black',\n",
    "                 )\n",
    "plt.plot((energy_tot), \n",
    "                   (pfit_Q1pP_5deg(np.log10(energy_tot))),\n",
    "                   linewidth = 4, linestyle = '-', color = 'tomato',\n",
    "                 )\n",
    "plt.plot((energy_tot), \n",
    "                   (pfit_Q1pP_6deg(np.log10(energy_tot))),\n",
    "                   linewidth = 4, linestyle = '-', color = 'dodgerblue',\n",
    "                 )\n",
    "plt.plot((energy_tot), \n",
    "                   (pfit_Q1pP_7deg(np.log10(energy_tot))),\n",
    "                   linewidth = 4, linestyle = '-', color = 'forestgreen',\n",
    "                 )\n",
    "plt.plot((energy_tot), \n",
    "                   (pfit_Q1pP_8deg(np.log10(energy_tot))),\n",
    "                   linewidth = 4, linestyle = '-', color = 'goldenrod',zorder = 50\n",
    "                 )\n",
    "plt.plot(Shah98.energy, np.log10(Shah98.Q_1pP), marker = 'd', markersize = 8, color = 'dimgrey')\n",
    "plt.plot(Shah87a.energy, np.log10(Shah87a.Q_1pP), marker = 's', markersize = 8, color = 'dimgrey')\n",
    "plt.plot(Shah81.energy, np.log10(Shah81.Q_1pP), marker = 'o', markersize = 8, color = 'dimgrey')\n",
    "plt.plot((energy2plot), \n",
    "                   (pfit_Q1pP_2deg_end(np.log10(energy2plot))),\n",
    "                   linewidth = 4, linestyle = '--', color = 'tomato',\n",
    "                 )\n",
    "plt.plot((energy2plot), \n",
    "                   (pfit_Q1pP_1deg_end(np.log10(energy2plot))),\n",
    "                   linewidth = 4, linestyle = '--', color = 'dodgerblue',\n",
    "                 )\n",
    "plt.xscale('log')\n",
    "\n",
    "pfit_Q1pP_1deg_end"
   ]
  },
  {
   "cell_type": "code",
   "execution_count": 78,
   "metadata": {},
   "outputs": [],
   "source": [
    "estart = np.abs(energy_tot - 500.0).argmin()\n",
    "eend = np.abs(energy_tot - 1500.0).argmin()\n",
    "energy2fit = energy_tot[estart:eend+1]\n",
    "csec2fit = csec_tot_Q1pP[estart:eend+1]"
   ]
  },
  {
   "cell_type": "code",
   "execution_count": 123,
   "metadata": {},
   "outputs": [
    {
     "data": {
      "text/plain": [
       "[<matplotlib.lines.Line2D at 0x7faeb97f7250>]"
      ]
     },
     "execution_count": 123,
     "metadata": {},
     "output_type": "execute_result"
    },
    {
     "data": {
      "image/png": "[encoded data removed]",
      "text/plain": [
       "<Figure size 432x288 with 1 Axes>"
      ]
     },
     "metadata": {
      "needs_background": "light"
     },
     "output_type": "display_data"
    }
   ],
   "source": [
    "plt.plot(energy2fit,np.log10(csec2fit), marker = 'd', color = 'dimgrey', linestyle = 'none')\n",
    "plt.xscale('log')\n",
    "plt.plot((energy2fit), \n",
    "                   (pfit_Q1pP_2deg_end(np.log10(energy2fit))),\n",
    "                   linewidth = 4, linestyle = '-', color = 'black',\n",
    "                 )\n",
    "energy2plot = np.arange(1500, 10001,1)\n",
    "plt.plot((energy2plot), \n",
    "                   (pfit_Q1pP_2deg_end(np.log10(energy2plot))),\n",
    "                   linewidth = 4, linestyle = '-', color = 'tomato',\n",
    "                 )\n",
    "plt.plot((energy2plot), \n",
    "                   (pfit_Q1pP_1deg_end(np.log10(energy2plot))),\n",
    "                   linewidth = 4, linestyle = '-', color = 'dodgerblue',\n",
    "                 )\n",
    "# plt.plot((energy2plot), \n",
    "#                    np.log10(np.log((OZpy.CrossSections.exponential_fn(energy2plot,popt_exp[0],popt_exp[1])))),\n",
    "#                    linewidth = 4, linestyle = '-', color = 'forestgreen',\n",
    "#                  )"
   ]
  },
  {
   "cell_type": "code",
   "execution_count": 83,
   "metadata": {},
   "outputs": [],
   "source": [
    "pfit_Q1pP_2deg_end = OZpy.CrossSections.cs_polyfit(energy2fit, csec2fit,  \n",
    "                                                       order = 2, log10E = True, log10Q = True)\n",
    "pfit_Q1pP_1deg_end = OZpy.CrossSections.cs_polyfit(energy2fit, csec2fit,  \n",
    "                                                       order = 1, log10E = True, log10Q = True)\n",
    "\n"
   ]
  },
  {
   "cell_type": "code",
   "execution_count": 108,
   "metadata": {},
   "outputs": [],
   "source": [
    "popt_exp, pcov_exp = OZpy.CrossSections.cs_expfit(energy2fit, csec2fit)\n",
    "popt_hyp, pcov_hyp = OZpy.CrossSections.cs_hyberbolfit(energy2fit, csec2fit)"
   ]
  },
  {
   "cell_type": "code",
   "execution_count": 125,
   "metadata": {},
   "outputs": [
    {
     "data": {
      "text/plain": [
       "(500.0, 8000.0)"
      ]
     },
     "execution_count": 125,
     "metadata": {},
     "output_type": "execute_result"
    },
    {
     "data": {
      "image/png": "[encoded data removed]",
      "text/plain": [
       "<Figure size 432x288 with 1 Axes>"
      ]
     },
     "metadata": {
      "needs_background": "light"
     },
     "output_type": "display_data"
    }
   ],
   "source": [
    "plt.plot(energy2fit,np.log10(csec2fit), marker = 'd', color = 'dimgrey', linestyle = 'none')\n",
    "\n",
    "\n",
    "plt.plot((energy2plot), \n",
    "                  np.log10(OZpy.CrossSections.exponential_fn(energy2plot,popt_exp[0],popt_exp[1])),\n",
    "                   linewidth = 4, linestyle = '-', color = 'forestgreen',\n",
    "                 )\n",
    "plt.plot((energy2plot), \n",
    "                  np.log10(OZpy.CrossSections.hyperbolic_fn(energy2plot,popt_hyp[0],popt_hyp[1], popt_hyp[2])),\n",
    "                   linewidth = 4, linestyle = '-', color = 'dodgerblue',\n",
    "                 )\n",
    "plt.plot((energy2plot), \n",
    "                   (pfit_Q1pP_1deg_end(np.log10(energy2plot))),\n",
    "                   linewidth = 4, linestyle = '--', color = 'tomato',\n",
    "                 )\n",
    "plt.plot((energy2plot), \n",
    "                   (pfit_Q1pP_2deg_end(np.log10(energy2plot))),\n",
    "                   linewidth = 4, linestyle = '--', color = 'black',\n",
    "                 )\n",
    "\n",
    "plt.xlim([500,8000])"
   ]
  },
  {
   "cell_type": "code",
   "execution_count": 104,
   "metadata": {},
   "outputs": [
    {
     "data": {
      "text/plain": [
       "array([5.36685047e+00, 9.69425574e-04])"
      ]
     },
     "execution_count": 104,
     "metadata": {},
     "output_type": "execute_result"
    }
   ],
   "source": [
    "popt_exp"
   ]
  },
  {
   "cell_type": "code",
   "execution_count": 114,
   "metadata": {},
   "outputs": [
    {
     "data": {
      "text/plain": [
       "array([3.38, 3.19, 3.04, 2.64, 2.38, 2.18, 1.97, 1.75, 1.58, 1.38])"
      ]
     },
     "execution_count": 114,
     "metadata": {},
     "output_type": "execute_result"
    }
   ],
   "source": [
    "csec2fit"
   ]
  },
  {
   "cell_type": "code",
   "execution_count": 132,
   "metadata": {},
   "outputs": [],
   "source": [
    "energy = np.arange(1,8001,1)\n",
    "eind1 = np.abs(energy - 1500).argmin()\n",
    "eind1 = np.where(energy <= 1500)[0][-1]"
   ]
  },
  {
   "cell_type": "code",
   "execution_count": 134,
   "metadata": {},
   "outputs": [
    {
     "data": {
      "text/plain": [
       "1500"
      ]
     },
     "execution_count": 134,
     "metadata": {},
     "output_type": "execute_result"
    }
   ],
   "source": [
    "energy[eind1]"
   ]
  },
  {
   "cell_type": "code",
   "execution_count": 137,
   "metadata": {},
   "outputs": [
    {
     "data": {
      "text/plain": [
       "array([-1.55346521,  1.3669883 ,  1.85671678, -5.69724539,  9.64059189,\n",
       "       -8.1251122 ,  3.44611815, -0.71654207,  0.05840993])"
      ]
     },
     "execution_count": 137,
     "metadata": {},
     "output_type": "execute_result"
    }
   ],
   "source": [
    "pfit_Q1pP_8deg.coef"
   ]
  },
  {
   "cell_type": "code",
   "execution_count": 146,
   "metadata": {},
   "outputs": [],
   "source": [
    " #######\n",
    "coefs_q1pP_1 = np.array((-1.55346521,  1.3669883 ,  1.85671678, -5.69724539,  9.64059189,\n",
    "                     -8.1251122 ,  3.44611815, -0.71654207,  0.05840993))\n",
    "coefs_q1pP_2 = np.array((2.76008, -0.82241))\n",
    "polfit_1 = Poly(coefs_q1pP_1)\n",
    "polfit_2 = Poly(coefs_q1pP_2)\n",
    "energy = np.arange(1,8001,1)\n",
    "if np.max(energy > 1500):\n",
    "    eind1 = np.where(energy <= 1500)[0][-1]\n",
    "    Q_p1P_tmp1 = 10**(polfit_1(np.log10(energy[:eind1+1])))\n",
    "    Q_p1P_tmp2 = 10**(polfit_2(np.log10(energy[eind1+1:])))\n",
    "    Q_p1P = np.concatenate([Q_p1P_tmp1,Q_p1P_tmp2])"
   ]
  },
  {
   "cell_type": "code",
   "execution_count": null,
   "metadata": {},
   "outputs": [],
   "source": [
    "Q_p1P"
   ]
  }
 ],
 "metadata": {
  "kernelspec": {
   "display_name": "py38_solar_sunpy",
   "language": "python",
   "name": "py38_solar_sunpy"
  },
  "language_info": {
   "codemirror_mode": {
    "name": "ipython",
    "version": 3
   },
   "file_extension": ".py",
   "mimetype": "text/x-python",
   "name": "python",
   "nbconvert_exporter": "python",
   "pygments_lexer": "ipython3",
   "version": "3.8.5"
  }
 },
 "nbformat": 4,
 "nbformat_minor": 4
}
